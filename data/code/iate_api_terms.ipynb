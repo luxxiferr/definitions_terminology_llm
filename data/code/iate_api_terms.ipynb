{
 "cells": [
  {
   "cell_type": "code",
   "execution_count": 1,
   "metadata": {
    "colab": {
     "base_uri": "https://localhost:8080/"
    },
    "executionInfo": {
     "elapsed": 10069,
     "status": "ok",
     "timestamp": 1758700850958,
     "user": {
      "displayName": "Lucía Palacios",
      "userId": "04232850131081611659"
     },
     "user_tz": -120
    },
    "id": "GPb-G5u2CjnT",
    "outputId": "cf806813-a7fb-4a2b-9efc-1232efbcfa3d"
   },
   "outputs": [
    {
     "name": "stdout",
     "output_type": "stream",
     "text": [
      "Requirement already satisfied: unidecode in /home/jovyan/.local/lib/python3.10/site-packages (1.4.0)\n",
      "\u001b[33mWARNING: Running pip as the 'root' user can result in broken permissions and conflicting behaviour with the system package manager. It is recommended to use a virtual environment instead: https://pip.pypa.io/warnings/venv\u001b[0m\u001b[33m\n",
      "\u001b[0m"
     ]
    }
   ],
   "source": [
    "import sys\n",
    "!{sys.executable} -m pip install --user unidecode"
   ]
  },
  {
   "cell_type": "code",
   "execution_count": 2,
   "metadata": {
    "executionInfo": {
     "elapsed": 38,
     "status": "ok",
     "timestamp": 1758700884355,
     "user": {
      "displayName": "Lucía Palacios",
      "userId": "04232850131081611659"
     },
     "user_tz": -120
    },
    "id": "_JxVlpTjAlpE"
   },
   "outputs": [],
   "source": [
    "import requests\n",
    "import json\n",
    "from pathlib import Path\n",
    "from unidecode import unidecode"
   ]
  },
  {
   "cell_type": "code",
   "execution_count": null,
   "metadata": {},
   "outputs": [],
   "source": [
    "import json\n",
    "import unicodedata\n",
    "import re\n",
    "import csv\n",
    "import os\n",
    "import requests\n",
    "from tqdm.notebook import tqdm\n",
    "\n",
    "# === CONFIGURACIÓN ===\n",
    "target_domain = \"TRANSPORT\"  # 🔹 dominio objetivo (puedes cambiarlo)\n",
    "lang = \"en\"  # idioma de las definiciones a extraer\n",
    "base_dir = \"/home/jovyan/lrec_2026/data_10/land_transport\"\n",
    "\n",
    "txt_path = os.path.join(base_dir, \"glossary_land_transport_en.txt\")\n",
    "json_output = os.path.join(base_dir, \"iate_land_transport_full_filtered_en.json\")\n",
    "csv_output = os.path.join(base_dir, \"glossary_land_transport_with_definitions_en_full_filtered.csv\")\n",
    "\n",
    "# === FUNCIONES AUXILIARES ===\n",
    "def save_json(data, filename):\n",
    "    with open(filename, \"w\", encoding=\"utf-8\") as json_file:\n",
    "        json.dump(data, json_file, ensure_ascii=False, indent=4)\n",
    "    print(f\"✅ Archivo guardado en: {filename}\")\n",
    "\n",
    "def normalize(text):\n",
    "    text = \"\" if text is None else str(text)\n",
    "    text = text.strip().lower()\n",
    "    text = ''.join(c for c in unicodedata.normalize(\"NFD\", text) if unicodedata.category(c) != \"Mn\")\n",
    "    text = re.sub(r\"[^a-z0-9\\s]\", \" \", text)\n",
    "    return text.strip()\n",
    "\n",
    "def domain_matches(item, target_norm):\n",
    "    \"\"\"Comprueba si el ítem pertenece al dominio indicado.\"\"\"\n",
    "    for d in item.get(\"domains\", []) or []:\n",
    "        domain_info = d.get(\"domain\", {})\n",
    "        path = domain_info.get(\"path\", [])\n",
    "        name = domain_info.get(\"name\", \"\")\n",
    "        texts = [\" \".join(path)] if path else [name]\n",
    "        for t in texts:\n",
    "            if target_norm in normalize(t) or normalize(t) in target_norm:\n",
    "                return True\n",
    "    return False\n",
    "\n",
    "# === CLASE PARA HACER REQUESTS A IATE ===\n",
    "class IateRequester:\n",
    "    def __init__(self) -> None:\n",
    "        username = \"username\"\n",
    "        password = \"password\"\n",
    "        iate_url = (\n",
    "            f\"https://test.iate2.eu/uac-api/ws/oauth2/token?\"\n",
    "            f\"username={username}&password={password}&grant_type=password\"\n",
    "        )\n",
    "        iate_headers = {\n",
    "            \"Accept\": \"application/vnd.iate.token+json; version=2\",\n",
    "            \"Content-Type\": \"application/x-www-form-urlencoded\",\n",
    "        }\n",
    "        response = requests.post(iate_url, headers=iate_headers)\n",
    "        response = response.json()\n",
    "        self.auth_token = response[\"tokens\"][0][\"access_token\"]\n",
    "\n",
    "    def make_request(self, request_data, quantity_results=5):\n",
    "        query_url = (\n",
    "            f\"https://test.iate2.eu/em-api/ws/entries/_search?expand=true&limit={quantity_results}&offset=0\"\n",
    "        )\n",
    "        query_headers = {\n",
    "            \"Accept\": \"application/vnd.iate.entry+json; version=2\",\n",
    "            \"Content-Type\": \"application/vnd.iate.entry-search+json; version=1\",\n",
    "            \"Authorization\": f\"Bearer {self.auth_token}\",\n",
    "        }\n",
    "        query_data = {\n",
    "            \"query\": request_data[\"req_term\"],\n",
    "            \"query_operator\": 3,  # all words\n",
    "            \"search_in_term_types\": [4],\n",
    "            \"search_in_fields\": [0],\n",
    "            \"source\": request_data[\"in_language\"],\n",
    "            \"targets\": request_data[\"out_languages\"],\n",
    "        }\n",
    "        query_res = requests.get(query_url, headers=query_headers, json=query_data)\n",
    "        return query_res.json()\n",
    "\n",
    "# === LEER TÉRMINOS DEL TXT ===\n",
    "with open(txt_path, \"r\", encoding=\"utf-8\") as f:\n",
    "    all_terms = [line.strip() for line in f if line.strip()]\n",
    "\n",
    "# === INICIALIZAR IATE ===\n",
    "requester = IateRequester()\n",
    "\n",
    "results_dict = {}\n",
    "rows = []\n",
    "target_norm = normalize(target_domain)\n",
    "\n",
    "print(f\"🔹 Extrayendo definiciones del dominio '{target_domain}' para todos los términos...\")\n",
    "\n",
    "# === BUCLE PRINCIPAL ===\n",
    "for term in tqdm(all_terms):\n",
    "    request_data = {\n",
    "        \"req_term\": term,\n",
    "        \"in_language\": lang,\n",
    "        \"out_languages\": [lang],\n",
    "    }\n",
    "\n",
    "    try:\n",
    "        response_json = requester.make_request(request_data)\n",
    "    except Exception as e:\n",
    "        print(f\"❌ Error con '{term}': {e}\")\n",
    "        continue\n",
    "\n",
    "    items = response_json.get(\"items\", [])\n",
    "    chosen_definition = None\n",
    "    chosen_sources = []\n",
    "\n",
    "    for item in items:\n",
    "        lang_entry = item.get(\"language\", {}).get(lang, {})\n",
    "        definition = lang_entry.get(\"definition\", {})\n",
    "\n",
    "        if not (definition and \"value\" in definition):\n",
    "            continue\n",
    "\n",
    "        # ✅ Comprobamos si pertenece al dominio\n",
    "        if not domain_matches(item, target_norm):\n",
    "            continue\n",
    "\n",
    "        chosen_definition = definition[\"value\"].strip().replace(\"\\n\", \" \")\n",
    "        refs = definition.get(\"references\", [])\n",
    "        chosen_sources = [r.get(\"text\", \"\").strip() for r in refs if r.get(\"text\", \"\")]\n",
    "        break  # solo una definición por término\n",
    "\n",
    "    if chosen_definition:\n",
    "        results_dict[term] = {\n",
    "            \"definition\": chosen_definition,\n",
    "            \"sources\": chosen_sources,\n",
    "        }\n",
    "        rows.append([term, chosen_definition, \" | \".join(chosen_sources)])\n",
    "\n",
    "# === GUARDAR RESULTADOS ===\n",
    "save_json(results_dict, json_output)\n",
    "\n",
    "with open(csv_output, \"w\", encoding=\"utf-8\", newline=\"\") as csvfile:\n",
    "    writer = csv.writer(csvfile, delimiter=\";\")\n",
    "    writer.writerow([\"term\", \"definition\", \"source\"])\n",
    "    writer.writerows(rows)\n",
    "\n",
    "print(f\"\\n✅ Proceso terminado.\")\n",
    "print(f\"📘 Definiciones extraídas: {len(rows)}\")\n",
    "print(f\"🗂 CSV guardado en: {csv_output}\")\n",
    "print(f\"🧩 JSON guardado en: {json_output}\")\n"
   ]
  },
  {
   "cell_type": "code",
   "execution_count": null,
   "metadata": {},
   "outputs": [],
   "source": []
  }
 ],
 "metadata": {
  "colab": {
   "provenance": [
    {
     "file_id": "1Wyitp4dPwOnbCvJrxIRgCbJbLbpy0w9d",
     "timestamp": 1758538976554
    },
    {
     "file_id": "1Sy6WDh6GGVptomwS-OzGSMHJ8-PZU5QC",
     "timestamp": 1738589504927
    }
   ]
  },
  "kernelspec": {
   "display_name": "Python 3 (ipykernel)",
   "language": "python",
   "name": "python3"
  },
  "language_info": {
   "codemirror_mode": {
    "name": "ipython",
    "version": 3
   },
   "file_extension": ".py",
   "mimetype": "text/x-python",
   "name": "python",
   "nbconvert_exporter": "python",
   "pygments_lexer": "ipython3",
   "version": "3.10.6"
  }
 },
 "nbformat": 4,
 "nbformat_minor": 4
}
