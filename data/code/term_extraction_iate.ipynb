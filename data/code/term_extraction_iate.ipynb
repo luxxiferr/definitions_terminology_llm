{
 "cells": [
  {
   "cell_type": "code",
   "execution_count": 1,
   "metadata": {},
   "outputs": [
    {
     "data": {
      "text/plain": [
       "'/home/jovyan/lrec_2026/data.zip'"
      ]
     },
     "execution_count": 1,
     "metadata": {},
     "output_type": "execute_result"
    }
   ],
   "source": [
    "import shutil\n",
    "\n",
    "shutil.make_archive(\"data\", \"zip\", root_dir=\"/home/jovyan/lrec_2026/data\")\n",
    "\n"
   ]
  },
  {
   "cell_type": "code",
   "execution_count": 2,
   "metadata": {
    "executionInfo": {
     "elapsed": 317,
     "status": "ok",
     "timestamp": 1758701485562,
     "user": {
      "displayName": "Lucía Palacios",
      "userId": "04232850131081611659"
     },
     "user_tz": -120
    },
    "id": "fxodJ6eqAqBg"
   },
   "outputs": [],
   "source": [
    "iate=\"/home/jovyan/lrec_2026/IATE_export.csv\"\n"
   ]
  },
  {
   "cell_type": "code",
   "execution_count": 9,
   "metadata": {
    "colab": {
     "base_uri": "https://localhost:8080/"
    },
    "executionInfo": {
     "elapsed": 6138,
     "status": "ok",
     "timestamp": 1758701493121,
     "user": {
      "displayName": "Lucía Palacios",
      "userId": "04232850131081611659"
     },
     "user_tz": -120
    },
    "id": "SY44N7LJBLKO",
    "outputId": "1c036aec-82a0-420e-a413-41221c6e67b0"
   },
   "outputs": [
    {
     "name": "stdout",
     "output_type": "stream",
     "text": [
      "Se han extraído 2115 filas en inglés a /home/jovyan/lrec_2026/data_10/education/extracted_education_terms_en.csv y creado glosario en /home/jovyan/lrec_2026/data_10/education/glossary_education_en.txt\n",
      "Se han extraído 569 filas en español a /home/jovyan/lrec_2026/data_10/education/extracted_education_terms_es.csv y creado glosario en /home/jovyan/lrec_2026/data_10/education/glossary_education_es.txt\n"
     ]
    }
   ],
   "source": [
    "import csv\n",
    "\n",
    "# Archivos de entrada y salida\n",
    "input_file = iate\n",
    "output_file_en_csv = \"/home/jovyan/lrec_2026/data_10/natural_sciences/extracted_natural_sciences_terms_en.csv\"\n",
    "output_file_es_csv = \"/home/jovyan/lrec_2026/data_10/natural_sciences/extracted_natural_sciences_terms_es.csv\"\n",
    "\n",
    "glossary_en_txt = \"/home/jovyan/lrec_2026/data_10/natural_sciences/glossary_natural_sciences_en.txt\"\n",
    "glossary_es_txt = \"/home/jovyan/lrec_2026/data_10/natural_sciences/glossary_natural_sciences_es.txt\"\n",
    "\n",
    "# Abrimos el CSV original\n",
    "with open(input_file, mode=\"r\", encoding=\"utf-8\") as infile:\n",
    "    reader = csv.DictReader(infile, delimiter=\"|\")\n",
    "\n",
    "    # Filtramos filas cuyo E_DOMAINS sea exactamente \"oil industry\"\n",
    "    filtered_rows = [row for row in reader if row[\"E_DOMAINS\"].strip().lower() == \"Natural Sciences\"]\n",
    "\n",
    "# Separamos por idioma\n",
    "rows_en = [row for row in filtered_rows if row[\"L_CODE\"] == \"en\"]\n",
    "rows_es = [row for row in filtered_rows if row[\"L_CODE\"] == \"es\"]\n",
    "\n",
    "# Guardamos los CSV separados\n",
    "with open(output_file_en_csv, mode=\"w\", encoding=\"utf-8\", newline=\"\") as outfile_en:\n",
    "    writer = csv.DictWriter(outfile_en, fieldnames=reader.fieldnames, delimiter=\"|\")\n",
    "    writer.writeheader()\n",
    "    writer.writerows(rows_en)\n",
    "\n",
    "with open(output_file_es_csv, mode=\"w\", encoding=\"utf-8\", newline=\"\") as outfile_es:\n",
    "    writer = csv.DictWriter(outfile_es, fieldnames=reader.fieldnames, delimiter=\"|\")\n",
    "    writer.writeheader()\n",
    "    writer.writerows(rows_es)\n",
    "\n",
    "# Creamos los glosarios TXT con los términos (T_TERM)\n",
    "with open(glossary_en_txt, mode=\"w\", encoding=\"utf-8\") as f_en:\n",
    "    for row in rows_en:\n",
    "        f_en.write(row[\"T_TERM\"].strip() + \"\\n\")\n",
    "\n",
    "with open(glossary_es_txt, mode=\"w\", encoding=\"utf-8\") as f_es:\n",
    "    for row in rows_es:\n",
    "        f_es.write(row[\"T_TERM\"].strip() + \"\\n\")\n",
    "\n",
    "print(f\"Se han extraído {len(rows_en)} filas en inglés a {output_file_en_csv} y creado glosario en {glossary_en_txt}\")\n",
    "print(f\"Se han extraído {len(rows_es)} filas en español a {output_file_es_csv} y creado glosario en {glossary_es_txt}\")\n"
   ]
  },
  {
   "cell_type": "code",
   "execution_count": 8,
   "metadata": {
    "colab": {
     "base_uri": "https://localhost:8080/"
    },
    "executionInfo": {
     "elapsed": 774,
     "status": "ok",
     "timestamp": 1758701249419,
     "user": {
      "displayName": "Lucía Palacios",
      "userId": "04232850131081611659"
     },
     "user_tz": -120
    },
    "id": "uZeBbKr-qFAZ",
    "outputId": "54832f04-8dc3-438a-bede-b58a767a5103"
   },
   "outputs": [
    {
     "name": "stdout",
     "output_type": "stream",
     "text": [
      "CSV con definiciones guardado en: /content/drive/My Drive/Seguimiento-Lucía/papers/lrec_2026/data/data_10/international_trade/glossary_international_trade_with_definitions_es.csv\n"
     ]
    }
   ],
   "source": [
    "import json\n",
    "import csv\n",
    "\n",
    "# Ruta al archivo JSON completo con todos los términos\n",
    "input_path = \"/content/drive/My Drive/Seguimiento-Lucía/papers/lrec_2026/data/data_10/info_data/iate_info_data_trade_es.json\"\n",
    "\n",
    "# Ruta de salida en CSV\n",
    "output_path = \"/content/drive/My Drive/Seguimiento-Lucía/papers/lrec_2026/data/data_10/info_data/glossary_info_data_with_definitions_es.csv\"\n",
    "\n",
    "# Cargar el JSON original\n",
    "with open(input_path, \"r\", encoding=\"utf-8\") as f:\n",
    "    data = json.load(f)\n",
    "\n",
    "# Lista de filas para el CSV\n",
    "rows = []\n",
    "\n",
    "for term, content in data.items():\n",
    "    try:\n",
    "        items = content.get(\"items\", [])\n",
    "        for item in items:\n",
    "            lang_entry = item.get(\"language\", {}).get(\"es\", {})\n",
    "            definition = lang_entry.get(\"definition\", {})\n",
    "            if definition and \"value\" in definition:\n",
    "                definition_text = definition[\"value\"].strip()\n",
    "\n",
    "                # Extraer todas las fuentes\n",
    "                references = definition.get(\"references\", [])\n",
    "                sources = [ref.get(\"text\", \"\").strip() for ref in references]\n",
    "                sources_text = \" | \".join(sources) if sources else \"\"\n",
    "\n",
    "                rows.append([term, definition_text, sources_text])\n",
    "    except Exception as e:\n",
    "        print(f\"Error procesando {term}: {e}\")\n",
    "\n",
    "# Guardar en CSV\n",
    "with open(output_path, \"w\", encoding=\"utf-8\", newline=\"\") as csvfile:\n",
    "    writer = csv.writer(csvfile, delimiter=\";\")\n",
    "    writer.writerow([\"term\", \"definition\", \"source\"])\n",
    "    writer.writerows(rows)\n",
    "\n",
    "print(f\"CSV con definiciones guardado en: {output_path}\")\n"
   ]
  }
 ],
 "metadata": {
  "colab": {
   "authorship_tag": "ABX9TyPCAaZg3NmwfVm/5U5LPI5+",
   "provenance": []
  },
  "kernelspec": {
   "display_name": "Python 3 (ipykernel)",
   "language": "python",
   "name": "python3"
  },
  "language_info": {
   "codemirror_mode": {
    "name": "ipython",
    "version": 3
   },
   "file_extension": ".py",
   "mimetype": "text/x-python",
   "name": "python",
   "nbconvert_exporter": "python",
   "pygments_lexer": "ipython3",
   "version": "3.10.6"
  }
 },
 "nbformat": 4,
 "nbformat_minor": 4
}
